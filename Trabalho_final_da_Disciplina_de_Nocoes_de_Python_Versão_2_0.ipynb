{
  "nbformat": 4,
  "nbformat_minor": 0,
  "metadata": {
    "colab": {
      "provenance": [],
      "gpuType": "V28",
      "mount_file_id": "1MU4BL1Na5VrxoFLJRrSz3Apx7kSwmYWc",
      "authorship_tag": "ABX9TyMSTXLS1+q6VD/hpVxuHSs1"
    },
    "kernelspec": {
      "name": "python3",
      "display_name": "Python 3"
    },
    "language_info": {
      "name": "python"
    },
    "accelerator": "TPU"
  },
  "cells": [
    {
      "cell_type": "markdown",
      "source": [
        "# **Trabalho final**\n",
        "\n",
        "    A partir da base de dados de glicemia 'suja', ou sem tratamento, construir um programa em Python que:\n",
        "        1) leia linha por linha do arquivo,\n",
        "        2) extraia as colunas das linhas separadas por ;,\n",
        "        3) armazene os dados em um objeto chamado glicemia (destacando os atributos até os dados dos esportes),\n",
        "        4) armazene os objetos numa lista de glicemia,\n",
        "        5) realize a média de glicemia, kcal, carb.,\n",
        "        6) realize a mediana de glicemia, kcal, carb. (Dica. Ordenar a lista),\n",
        "        7) realize a moda de glicemida, kcal, carb (Moda é o valor que mais repete).\n",
        "\n",
        "    Conhecimento básico:\n",
        "        1) manipular instruções básicas do python: seleção (if-else); repetição (while),\n",
        "        2) manipular classes e objetos,\n",
        "        3) manipular listas (adicionar, localizar, remover e ordenar),\n",
        "        4) manipular arquivos texto (abrir, fechar, percorrer, extrair dados).\n",
        "        "
      ],
      "metadata": {
        "id": "p3GtJC1XDA6E"
      }
    },
    {
      "cell_type": "code",
      "source": [
        "import pandas as pd\n",
        "\n",
        "# Define o caminho do arquivo de dados.\n",
        "nome_arquivo = \"/content/drive/MyDrive/Colab Notebooks/trabalho_final/glicose.dat\"\n",
        "\n",
        "# Lê o arquivo diretamente em um DataFrame do pandas, sem a necessidade de uma classe intermediária.\n",
        "df = pd.read_csv(nome_arquivo, sep=';', encoding=\"utf8\", names=[\"Dia\", \"Ano\", \"AC\", \"Glicemia\", \"Insulina\", \"Kcal\", \"Carb\", \"Sono\"])\n",
        "\n",
        "# Converte os tipos de dados das colunas para inteiros onde aplicável.\n",
        "df = df.astype({\"Ano\": int, \"Glicemia\": int, \"Insulina\": int, \"Kcal\": int, \"Carb\": int})\n",
        "\n",
        "# Função para calcular e imprimir a média, mediana e moda de atributos específicos.\n",
        "def imprimir_estatisticas(df, atributos):\n",
        "    \"\"\"\n",
        "    Calcula e imprime a média, mediana e moda para os atributos especificados de um DataFrame.\n",
        "\n",
        "    Parâmetros:\n",
        "    df (DataFrame): O DataFrame contendo os dados.\n",
        "    atributos (list): Lista de atributos para calcular as estatísticas.\n",
        "    \"\"\"\n",
        "    print(\"*** Tabela com os resultados ***\\n\")\n",
        "    print(\"|          | Média | Mediana | Moda |\")\n",
        "    print(\"|----------|-------|---------|------|\")\n",
        "    for atributo in atributos:\n",
        "        media = df[atributo].mean()\n",
        "        mediana = df[atributo].median()\n",
        "        moda = df[atributo].mode()[0] if not df[atributo].mode().empty else 'N/A'\n",
        "        print(f\"| {atributo} | {media:.2f} | {mediana:.2f} | {moda} |\")\n",
        "\n",
        "# Chama a função para imprimir as estatísticas.\n",
        "imprimir_estatisticas(df, ['Glicemia', 'Kcal', 'Carb'])\n",
        "\n",
        "# Imprime o DataFrame.\n",
        "print(\"\\n*** Lista o conteúdo do banco de dados ***\\n\")\n",
        "print(df)\n"
      ],
      "metadata": {
        "colab": {
          "base_uri": "https://localhost:8080/"
        },
        "id": "TLrTJR_bv2Mg",
        "outputId": "e2e5e943-2696-4b9c-8b0b-9c85c85c6866"
      },
      "execution_count": 3,
      "outputs": [
        {
          "output_type": "stream",
          "name": "stdout",
          "text": [
            "*** Tabela com os resultados ***\n",
            "\n",
            "|          | Média | Mediana | Moda |\n",
            "|----------|-------|---------|------|\n",
            "| Glicemia | 94.35 | 94.00 | 92 |\n",
            "| Kcal | 2411.91 | 2377.00 | 2296 |\n",
            "| Carb | 249.62 | 251.00 | 209 |\n",
            "\n",
            "*** Lista o conteúdo do banco de dados ***\n",
            "\n",
            "         Dia   Ano  AC  Glicemia  Insulina  Kcal  Carb  Sono\n",
            "0     Quinta  2012  ac        90         6  2037   246   4.0\n",
            "1      Sexta  2012  ac        96         6  2714   309   4.0\n",
            "2     Sabado  2012  ac        90         6  2665   334   4.0\n",
            "3    Domingo  2012  ac       105         6  2008   262   5.0\n",
            "4    Segunda  2012  ac        86         6  2117   291   5.0\n",
            "..       ...   ...  ..       ...       ...   ...   ...   ...\n",
            "720  Segunda  2014  ac        98        12  2626   157   5.0\n",
            "721    Terca  2014  ac        92        12  2296   276   5.0\n",
            "722   Quarta  2014  ac        91        12  2453   177   3.0\n",
            "723   Quinta  2014  ac        99        12  2565   246   4.0\n",
            "724    Sexta  2014  ac        93        12  2565   246   5.0\n",
            "\n",
            "[725 rows x 8 columns]\n"
          ]
        }
      ]
    }
  ]
}