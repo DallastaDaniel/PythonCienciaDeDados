{
  "nbformat": 4,
  "nbformat_minor": 0,
  "metadata": {
    "colab": {
      "provenance": [],
      "authorship_tag": "ABX9TyPohDOMmO74raQbvHTJ1pv9",
      "include_colab_link": true
    },
    "kernelspec": {
      "name": "python3",
      "display_name": "Python 3"
    },
    "language_info": {
      "name": "python"
    }
  },
  "cells": [
    {
      "cell_type": "markdown",
      "metadata": {
        "id": "view-in-github",
        "colab_type": "text"
      },
      "source": [
        "<a href=\"https://colab.research.google.com/github/DallastaDaniel/PythonCienciaDeDados/blob/main/Testando_o_uso_de_'statistics'_no_Python.ipynb\" target=\"_parent\"><img src=\"https://colab.research.google.com/assets/colab-badge.svg\" alt=\"Open In Colab\"/></a>"
      ]
    },
    {
      "cell_type": "code",
      "execution_count": null,
      "metadata": {
        "colab": {
          "base_uri": "https://localhost:8080/"
        },
        "id": "GY4YKg_fDX2k",
        "outputId": "fd154cff-25a7-427d-807c-7105794270e4"
      },
      "outputs": [
        {
          "output_type": "stream",
          "name": "stdout",
          "text": [
            "A Média é 57.857142857142854\n",
            "A Mediana é 55.0\n",
            "A Moda é 100\n"
          ]
        }
      ],
      "source": [
        "# Testando o uso de 'statistics' no Python.\n",
        "\n",
        "import statistics as estatistica\n",
        "\n",
        "# Dados de exemplo\n",
        "dados = [10, 20, 30, 40, 50, 60, 70, 80, 90, 100, 10, 50, 100, 100]\n",
        "\n",
        "# Calculando a média usando statistics\n",
        "media = estatistica.mean(dados)\n",
        "\n",
        "# Calculando a mediana usando statistics\n",
        "mediana = estatistica.median(dados)\n",
        "\n",
        "# Calculando a moda usando statistics\n",
        "moda = estatistica.mode(dados)\n",
        "\n",
        "print(\"A Média é\", media)\n",
        "print(\"A Mediana é\", mediana)\n",
        "print(\"A Moda é\", moda)\n"
      ]
    }
  ]
}