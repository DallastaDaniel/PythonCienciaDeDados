{
  "nbformat": 4,
  "nbformat_minor": 0,
  "metadata": {
    "colab": {
      "provenance": [],
      "authorship_tag": "ABX9TyNQnaMJRV/KKVPYk38Mp5en",
      "include_colab_link": true
    },
    "kernelspec": {
      "name": "python3",
      "display_name": "Python 3"
    },
    "language_info": {
      "name": "python"
    }
  },
  "cells": [
    {
      "cell_type": "markdown",
      "metadata": {
        "id": "view-in-github",
        "colab_type": "text"
      },
      "source": [
        "<a href=\"https://colab.research.google.com/github/DallastaDaniel/PythonCienciaDeDados/blob/main/Testando_o_uso_de_'statistics'_no_Python.ipynb\" target=\"_parent\"><img src=\"https://colab.research.google.com/assets/colab-badge.svg\" alt=\"Open In Colab\"/></a>"
      ]
    },
    {
      "cell_type": "code",
      "execution_count": 5,
      "metadata": {
        "colab": {
          "base_uri": "https://localhost:8080/"
        },
        "id": "GY4YKg_fDX2k",
        "outputId": "6f5206a6-2337-49c1-b3cf-fdc3ccfc4d2b"
      },
      "outputs": [
        {
          "output_type": "stream",
          "name": "stdout",
          "text": [
            "A Média é 57.857142857142854\n",
            "A Mediana é 55.0\n",
            "A Moda é 100\n"
          ]
        }
      ],
      "source": [
        "## Testando o uso de 'statistics' no Python.\n",
        "\n",
        "import statistics as estatistica\n",
        "\n",
        "# Dados de exemplo\n",
        "dados = [10, 20, 30, 40, 50, 60, 70, 80, 90, 100, 10, 50, 100, 100]\n",
        "\n",
        "# Calculando a média usando statistics\n",
        "media = estatistica.mean(dados)\n",
        "\n",
        "# Calculando a mediana usando statistics\n",
        "mediana = estatistica.median(dados)\n",
        "\n",
        "# Calculando a moda usando statistics\n",
        "moda = estatistica.mode(dados)\n",
        "\n",
        "print(\"A Média é\",media)\n",
        "print(\"A Mediana é\",mediana)\n",
        "print(\"A Moda é\",moda)\n"
      ]
    },
    {
      "cell_type": "code",
      "source": [
        "import numpy as np\n",
        "\n",
        "# Criando um array unidimensional\n",
        "array_1d = np.array([1, 2, 3, 4, 5])\n",
        "print(\"Array unidimensional:\")\n",
        "print(array_1d)\n",
        "\n",
        "# Criando um array bidimensional\n",
        "array_2d = np.array([[1, 2, 3], [4, 5, 6], [7, 8, 9]])\n",
        "print(\"\\nArray bidimensional:\")\n",
        "print(array_2d)\n",
        "\n",
        "\n",
        "# Indexação em arrays unidimensionais\n",
        "print(\"\\nIndexação e Slicing em arrays unidimensionais:\")\n",
        "print(\"Primeiro elemento:\", array_1d[0])\n",
        "print(\"Último elemento:\", array_1d[-1])\n",
        "print(\"Slicing do segundo ao quarto elemento:\", array_1d[1:4])\n",
        "\n",
        "# Indexação em arrays bidimensionais\n",
        "print(\"\\nIndexação e Slicing em arrays bidimensionais:\")\n",
        "print(\"Elemento na segunda linha e terceira coluna:\", array_2d[1, 2])\n",
        "print(\"Primeira coluna:\", array_2d[:, 0])\n",
        "print(\"Última linha:\", array_2d[-1, :])\n",
        "print(\"Slicing da segunda e terceira linha e segunda coluna:\", array_2d[1:3, 1])\n",
        "\n",
        "\n",
        "# Operações básicas com arrays\n",
        "print(\"\\nOperações básicas com arrays:\")\n",
        "# Soma de elementos de um array unidimensional\n",
        "print(\"Soma dos elementos do array unidimensional:\", np.sum(array_1d))\n",
        "# Soma de elementos de um array bidimensional\n",
        "print(\"Soma dos elementos do array bidimensional:\", np.sum(array_2d))\n",
        "# Multiplicação de um array por um escalar\n",
        "print(\"Multiplicação do array unidimensional por 2:\", array_1d * 2)\n",
        "# Multiplicação de dois arrays\n",
        "print(\"Multiplicação elemento a elemento dos dois arrays:\", array_1d * array_1d)\n",
        "# Produto escalar de dois arrays\n",
        "print(\"Produto escalar dos dois arrays:\", np.dot(array_1d, array_1d))"
      ],
      "metadata": {
        "colab": {
          "base_uri": "https://localhost:8080/"
        },
        "id": "vu4EWJI9tcOi",
        "outputId": "956b0f18-245a-4318-cca6-e8541cbaef86"
      },
      "execution_count": 6,
      "outputs": [
        {
          "output_type": "stream",
          "name": "stdout",
          "text": [
            "Array unidimensional:\n",
            "[1 2 3 4 5]\n",
            "\n",
            "Array bidimensional:\n",
            "[[1 2 3]\n",
            " [4 5 6]\n",
            " [7 8 9]]\n",
            "\n",
            "Indexação e Slicing em arrays unidimensionais:\n",
            "Primeiro elemento: 1\n",
            "Último elemento: 5\n",
            "Slicing do segundo ao quarto elemento: [2 3 4]\n",
            "\n",
            "Indexação e Slicing em arrays bidimensionais:\n",
            "Elemento na segunda linha e terceira coluna: 6\n",
            "Primeira coluna: [1 4 7]\n",
            "Última linha: [7 8 9]\n",
            "Slicing da segunda e terceira linha e segunda coluna: [5 8]\n",
            "\n",
            "Operações básicas com arrays:\n",
            "Soma dos elementos do array unidimensional: 15\n",
            "Soma dos elementos do array bidimensional: 45\n",
            "Multiplicação do array unidimensional por 2: [ 2  4  6  8 10]\n",
            "Multiplicação elemento a elemento dos dois arrays: [ 1  4  9 16 25]\n",
            "Produto escalar dos dois arrays: 55\n"
          ]
        }
      ]
    },
    {
      "cell_type": "code",
      "source": [],
      "metadata": {
        "id": "5cxMVMWft5_7"
      },
      "execution_count": null,
      "outputs": []
    }
  ]
}