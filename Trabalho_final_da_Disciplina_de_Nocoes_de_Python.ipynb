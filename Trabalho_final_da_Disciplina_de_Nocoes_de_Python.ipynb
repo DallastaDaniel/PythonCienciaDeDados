{
  "nbformat": 4,
  "nbformat_minor": 0,
  "metadata": {
    "colab": {
      "provenance": [],
      "mount_file_id": "16ZlX2RQUyunMcjukye5s7NI9DZ8uNCAO",
      "authorship_tag": "ABX9TyOQZLrvrkIaQGc9CEu5CaBw",
      "include_colab_link": true
    },
    "kernelspec": {
      "name": "python3",
      "display_name": "Python 3"
    },
    "language_info": {
      "name": "python"
    }
  },
  "cells": [
    {
      "cell_type": "markdown",
      "metadata": {
        "id": "view-in-github",
        "colab_type": "text"
      },
      "source": [
        "<a href=\"https://colab.research.google.com/github/DallastaDaniel/PythonCienciaDeDados/blob/main/Trabalho_final_da_Disciplina_de_Nocoes_de_Python.ipynb\" target=\"_parent\"><img src=\"https://colab.research.google.com/assets/colab-badge.svg\" alt=\"Open In Colab\"/></a>"
      ]
    },
    {
      "cell_type": "markdown",
      "source": [
        "# **Trabalho final**\n",
        "\n",
        "    A partir da base de dados de glicemia 'suja', ou sem tratamento, construir um programa em Python que:\n",
        "        1) leia linha por linha do arquivo,\n",
        "        2) extraia as colunas das linhas separadas por ;,\n",
        "        3) armazene os dados em um objeto chamado glicemia (destacando os atributos até os dados dos esportes),\n",
        "        4) armazene os objetos numa lista de glicemia,\n",
        "        5) realize a média de glicemia, kcal, carb.,\n",
        "        6) realize a mediana de glicemia, kcal, carb. (Dica. Ordenar a lista),\n",
        "        7) realize a moda de glicemida, kcal, carb (Moda é o valor que mais repete).\n",
        "\n",
        "    Conhecimento básico:\n",
        "        1) manipular instruções básicas do python: seleção (if-else); repetição (while),\n",
        "        2) manipular classes e objetos,\n",
        "        3) manipular listas (adicionar, localizar, remover e ordenar),\n",
        "        4) manipular arquivos texto (abrir, fechar, percorrer, extrair dados).\n",
        "        "
      ],
      "metadata": {
        "id": "p3GtJC1XDA6E"
      }
    },
    {
      "cell_type": "code",
      "source": [
        "import statistics\n",
        "\n",
        "# Atribui a variável o nome do arquivo a ser utlizado como banco de dados.\n",
        "nome_arquivo = \"/content/drive/MyDrive/Colab Notebooks/trabalho_final/glicose.dat\"\n",
        "\n",
        "# Cria a classe Glicemia\n",
        "class Glicemia:\n",
        "    def __init__(self, dia, ano, glicemia, insulina, kcal, carb, sono):\n",
        "        self.dia = str(dia)\n",
        "        self.ano = int(ano)\n",
        "        self.glicemia = int(glicemia)\n",
        "        self.insulina = int(insulina)\n",
        "        self.kcal = int(kcal)\n",
        "        self.carb = int(carb)\n",
        "        self.sono = str(sono)\n",
        "\n",
        "    def __str__(self):\n",
        "        return f\"{self.dia}, {self.ano}, {self.glicemia}, {self.insulina}, {self.kcal}, {self.carb}, {self.sono}\"\n",
        "\n",
        "# Abre e le o arquivo\n",
        "lista_glicemias = []\n",
        "with open(nome_arquivo,\"r\",encoding=\"utf8\") as leitor:\n",
        "    for linha in leitor:\n",
        "        vetor_linha = linha.split(\";\")\n",
        "        obj = Glicemia(vetor_linha[0],vetor_linha[1],vetor_linha[3],vetor_linha[4],vetor_linha[5],vetor_linha[6],vetor_linha[7])\n",
        "        lista_glicemias.append(obj)\n",
        "\n",
        "# Funções para calcular média, mediana e moda\n",
        "def calcular_media(valores):\n",
        "    return sum(valores) / len(valores)\n",
        "\n",
        "def calcular_mediana(valores):\n",
        "    return statistics.median(valores)\n",
        "\n",
        "def calcular_moda(valores):\n",
        "    return statistics.mode(valores)\n",
        "\n",
        "# Calcula e imprime a média, mediana e moda para glicemia, kcal e carb\n",
        "for atributo in ['glicemia', 'kcal', 'carb']:\n",
        "    valores = [getattr(glicemia, atributo) for glicemia in lista_glicemias]\n",
        "    print(f\"A média da {atributo} é\", calcular_media(valores))\n",
        "    print(f\"A mediana da {atributo} é\", calcular_mediana(valores))\n",
        "    print(f\"A moda da {atributo} é\", calcular_moda(valores))\n",
        "\n"
      ],
      "metadata": {
        "colab": {
          "base_uri": "https://localhost:8080/"
        },
        "id": "OUlJU2puMHhR",
        "outputId": "9cfd0673-fbd1-4e05-d1b3-ff8e60f79c9b"
      },
      "execution_count": 117,
      "outputs": [
        {
          "output_type": "stream",
          "name": "stdout",
          "text": [
            "A média da glicemia é 94.35172413793103\n",
            "A mediana da glicemia é 94\n",
            "A moda da glicemia é 92\n",
            "A média da kcal é 2411.9075862068967\n",
            "A mediana da kcal é 2377\n",
            "A moda da kcal é 2296\n",
            "A média da carb é 249.6151724137931\n",
            "A mediana da carb é 251\n",
            "A moda da carb é 209\n"
          ]
        }
      ]
    }
  ]
}