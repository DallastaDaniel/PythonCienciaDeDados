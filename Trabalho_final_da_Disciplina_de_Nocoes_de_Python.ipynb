{
  "nbformat": 4,
  "nbformat_minor": 0,
  "metadata": {
    "colab": {
      "provenance": [],
      "gpuType": "V28",
      "mount_file_id": "16ZlX2RQUyunMcjukye5s7NI9DZ8uNCAO",
      "authorship_tag": "ABX9TyOOYsSveCDxBqAuuGXuJVuX"
    },
    "kernelspec": {
      "name": "python3",
      "display_name": "Python 3"
    },
    "language_info": {
      "name": "python"
    },
    "accelerator": "TPU"
  },
  "cells": [
    {
      "cell_type": "markdown",
      "source": [
        "# **Trabalho final**\n",
        "\n",
        "    A partir da base de dados de glicemia 'suja', ou sem tratamento, construir um programa em Python que:\n",
        "        1) leia linha por linha do arquivo,\n",
        "        2) extraia as colunas das linhas separadas por ;,\n",
        "        3) armazene os dados em um objeto chamado glicemia (destacando os atributos até os dados dos esportes),\n",
        "        4) armazene os objetos numa lista de glicemia,\n",
        "        5) realize a média de glicemia, kcal, carb.,\n",
        "        6) realize a mediana de glicemia, kcal, carb. (Dica. Ordenar a lista),\n",
        "        7) realize a moda de glicemida, kcal, carb (Moda é o valor que mais repete).\n",
        "\n",
        "    Conhecimento básico:\n",
        "        1) manipular instruções básicas do python: seleção (if-else); repetição (while),\n",
        "        2) manipular classes e objetos,\n",
        "        3) manipular listas (adicionar, localizar, remover e ordenar),\n",
        "        4) manipular arquivos texto (abrir, fechar, percorrer, extrair dados).\n",
        "        "
      ],
      "metadata": {
        "id": "p3GtJC1XDA6E"
      }
    },
    {
      "cell_type": "code",
      "source": [
        "import statistics\n",
        "import pandas as pd\n",
        "\n",
        "# Atribui a variável o nome do arquivo a ser utilizado como banco de dados.\n",
        "nome_arquivo = \"/content/drive/MyDrive/Colab Notebooks/trabalho_final/glicose.dat\"\n",
        "\n",
        "# Cria a classe Glicemia\n",
        "class Glicemia:\n",
        "    def __init__(self, dia, ano, glicemia, insulina, kcal, carb, sono):\n",
        "        self.dia = dia\n",
        "        self.ano = int(ano)\n",
        "        self.glicemia = int(glicemia)\n",
        "        self.insulina = int(insulina)\n",
        "        self.kcal = int(kcal)\n",
        "        self.carb = int(carb)\n",
        "        self.sono = sono\n",
        "\n",
        "    def __str__(self):\n",
        "        return f\"{self.dia}, {self.ano}, {self.glicemia}, {self.insulina}, {self.kcal}, {self.carb}, {self.sono}\"\n",
        "\n",
        "# Abre e lê o arquivo e cria um DataFrame\n",
        "dados = []\n",
        "with open(nome_arquivo, \"r\", encoding=\"utf8\") as arquivo:\n",
        "    for linha in arquivo:\n",
        "        partes = linha.strip().split(\";\")\n",
        "        dados.append(partes)\n",
        "\n",
        "df = pd.DataFrame(dados, columns=[\"Dia\", \"Ano\", \"AC\", \"Glicemia\", \"Insulina\", \"Kcal\", \"Carb\", \"Sono\"])\n",
        "df = df.astype({\"Ano\": int, \"Glicemia\": int, \"Insulina\": int, \"Kcal\": int, \"Carb\": int})\n",
        "\n",
        "# Calcula e imprime a média, mediana e moda para glicemia, kcal e carb em estilo de tabela.\n",
        "print(\"*** Tabela com os resultados ***\\n\")\n",
        "print(\"|          | Média | Mediana | Moda |\")\n",
        "print(\"|----------|-------|---------|------|\")\n",
        "for atributo in ['Glicemia', 'Kcal', 'Carb']:\n",
        "    media = df[atributo].mean()\n",
        "    mediana = df[atributo].median()\n",
        "    try:\n",
        "        moda = df[atributo].mode()[0]\n",
        "    except KeyError:\n",
        "        moda = 'N/A'\n",
        "    print(f\"| {atributo} | {media:.2f} | {mediana:.2f} | {moda} |\")\n",
        "\n",
        "# Imprime o DataFrame\n",
        "print(\"\")\n",
        "print(\"*** Lista o conteúdo do banco de dados ***\\n\")\n",
        "print(df)\n"
      ],
      "metadata": {
        "id": "7AY6kyd0lrkV"
      },
      "execution_count": null,
      "outputs": []
    }
  ]
}