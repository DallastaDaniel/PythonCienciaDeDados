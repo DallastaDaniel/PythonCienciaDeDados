{
  "nbformat": 4,
  "nbformat_minor": 0,
  "metadata": {
    "colab": {
      "provenance": [],
      "mount_file_id": "16ZlX2RQUyunMcjukye5s7NI9DZ8uNCAO",
      "authorship_tag": "ABX9TyO1ECsBaEcY4mUHbpm8M2e/",
      "include_colab_link": true
    },
    "kernelspec": {
      "name": "python3",
      "display_name": "Python 3"
    },
    "language_info": {
      "name": "python"
    }
  },
  "cells": [
    {
      "cell_type": "markdown",
      "metadata": {
        "id": "view-in-github",
        "colab_type": "text"
      },
      "source": [
        "<a href=\"https://colab.research.google.com/github/DallastaDaniel/PythonCienciaDeDados/blob/main/Trabalho_final_da_Disciplina_de_Nocoes_de_Python.ipynb\" target=\"_parent\"><img src=\"https://colab.research.google.com/assets/colab-badge.svg\" alt=\"Open In Colab\"/></a>"
      ]
    },
    {
      "cell_type": "markdown",
      "source": [
        "# **Trabalho final**\n",
        "\n",
        "    A partir da base de dados de glicemia 'suja', ou sem tratamento, construir um programa em Python que:\n",
        "        1) leia linha por linha do arquivo,\n",
        "        2) extraia as colunas das linhas separadas por ;,\n",
        "        3) armazene os dados em um objeto chamado glicemia (destacando os atributos até os dados dos esportes),\n",
        "        4) armazene os objetos numa lista de glicemia,\n",
        "        5) realize a média de glicemia, kcal, carb.,\n",
        "        6) realize a mediana de glicemia, kcal, carb. (Dica. Ordenar a lista),\n",
        "        7) realize a moda de glicemida, kcal, carb (Moda é o valor que mais repete).\n",
        "\n",
        "    Conhecimento básico:\n",
        "        1) manipular instruções básicas do python: seleção (if-else); repetição (while),\n",
        "        2) manipular classes e objetos,\n",
        "        3) manipular listas (adicionar, localizar, remover e ordenar),\n",
        "        4) manipular arquivos texto (abrir, fechar, percorrer, extrair dados).\n",
        "        "
      ],
      "metadata": {
        "id": "p3GtJC1XDA6E"
      }
    },
    {
      "cell_type": "code",
      "source": [
        "# Atribui a variável o nome do arquivo a ser utlizado como banco de dados.\n",
        "nome_arquivo = \"/content/drive/MyDrive/Colab Notebooks/trabalho_final/glicose.dat\"\n"
      ],
      "metadata": {
        "id": "fFLbnUCNHDTc"
      },
      "execution_count": null,
      "outputs": []
    },
    {
      "cell_type": "code",
      "source": [
        "# Cria a classe Glicemia\n",
        "class Glicemia:\n",
        "\n",
        "    # É necessário de um método/serviço que crie ou instancie um objeto do tipo Glicemia\n",
        "    def __init__(self, dia, ano, glicemia, insulina, kcal, carb, sono):\n",
        "        self.dia = str(dia)\n",
        "        self.ano = int(ano)\n",
        "        self.glicemia = int(glicemia)\n",
        "        self.insulina = int(insulina)\n",
        "        self.kcal = int(kcal)\n",
        "        self.carb = int(carb)\n",
        "        self.sono = str(sono)\n",
        "\n",
        "    # Estamos reescrevendo o método que gera uma string do objeto Glicemia\n",
        "    def __str__(self):\n",
        "        return f\"{self.dia}, {self.ano}, {self.glicemia}, {self.insulina}, {self.kcal}, {self.carb}, {self.sono}\"\n"
      ],
      "metadata": {
        "id": "y8nesVZpeHvI"
      },
      "execution_count": null,
      "outputs": []
    },
    {
      "cell_type": "code",
      "source": [
        "# Abre e le o arquivo\n",
        "lista_glicemias = []\n",
        "\n",
        "with open(nome_arquivo,\"r\",encoding=\"utf8\") as leitor:\n",
        "    for linha in leitor:\n",
        "        # splitar a linha e criar um objeto do tipo Glicemia para cada linha\n",
        "        vetor_linha = linha.split(\";\")\n",
        "\n",
        "        # inserir o objeto gerado na lista de glicemias\n",
        "        obj = Glicemia(vetor_linha[0],vetor_linha[1],vetor_linha[3],vetor_linha[4],vetor_linha[5],vetor_linha[6],vetor_linha[7])\n",
        "        lista_glicemias.append(obj)\n",
        "\n",
        "#l = 0\n",
        "#while l < 725:\n",
        "#    print(lista_glicemias[l])\n",
        "#    l += 1\n"
      ],
      "metadata": {
        "id": "1XL6PSSEjevk"
      },
      "execution_count": null,
      "outputs": []
    },
    {
      "cell_type": "code",
      "source": [
        "# Glicemia - Média\n",
        "\n",
        "# Inicializa a soma da glicemia\n",
        "soma_glicemia = 0\n",
        "\n",
        "# Conta o número de medições\n",
        "num_medicoes = len(lista_glicemias)\n",
        "\n",
        "# Percorre a lista de glicemias\n",
        "for glicemia in lista_glicemias:\n",
        "    # Adiciona a glicemia atual à soma\n",
        "    soma_glicemia += glicemia.glicemia\n",
        "\n",
        "# Calcula a média\n",
        "media_glicemia = soma_glicemia / num_medicoes\n",
        "\n",
        "print(\"A média da glicemia é\", media_glicemia)\n"
      ],
      "metadata": {
        "id": "Ac-y2x5D-9hJ"
      },
      "execution_count": null,
      "outputs": []
    },
    {
      "cell_type": "code",
      "source": [
        "# Kcal - Média\n",
        "# Inicializa a soma da Kcal\n",
        "soma_Kcal = 0\n",
        "\n",
        "# Conta o número de medições\n",
        "num_medicoes = len(lista_glicemias)\n",
        "\n",
        "# Percorre a lista de glicemias\n",
        "for Kcal in lista_glicemias:\n",
        "    # Adiciona a Kcal atual à soma\n",
        "    soma_Kcal += Kcal.kcal\n",
        "\n",
        "# Calcula a média\n",
        "media_Kcal = soma_Kcal / num_medicoes\n",
        "\n",
        "print(\"A média da Kcal é\", media_Kcal)\n",
        "\n"
      ],
      "metadata": {
        "id": "MjHSi4qS_boG"
      },
      "execution_count": null,
      "outputs": []
    },
    {
      "cell_type": "code",
      "source": [
        "# Carb - Média\n",
        "# Inicializa a soma da Carb\n",
        "soma_carb = 0\n",
        "\n",
        "# Conta o número de medições\n",
        "num_medicoes = len(lista_glicemias)\n",
        "\n",
        "# Percorre a lista de glicemias\n",
        "for carb in lista_glicemias:\n",
        "    # Adiciona a Carb atual à soma\n",
        "    soma_carb += carb.carb\n",
        "\n",
        "# Calcula a média\n",
        "media_carb = soma_carb / num_medicoes\n",
        "\n",
        "print(\"A média da Carb é\", media_carb)\n"
      ],
      "metadata": {
        "id": "gjGlo30RAMgL"
      },
      "execution_count": null,
      "outputs": []
    },
    {
      "cell_type": "code",
      "source": [
        "# Glicemia - Mediana\n",
        "import statistics\n",
        "\n",
        "# Cria uma lista com todos os valores de glicemia\n",
        "valores_glicemia = [glicemia.glicemia for glicemia in lista_glicemias]\n",
        "\n",
        "# Calcula a mediana usando a função median da biblioteca statistics\n",
        "mediana_glicemia = statistics.median(valores_glicemia)\n",
        "\n",
        "print(\"A mediana da glicemia é\", mediana_glicemia)\n"
      ],
      "metadata": {
        "id": "-LyXXUMyCC84"
      },
      "execution_count": null,
      "outputs": []
    },
    {
      "cell_type": "code",
      "source": [
        "# Kcal - Mediana\n",
        "import statistics\n",
        "\n",
        "# Cria uma lista com todos os valores de kcal\n",
        "valores_kcal = [kcal.kcal for kcal in lista_glicemias]\n",
        "\n",
        "# Calcula a mediana usando a função median da biblioteca statistics\n",
        "mediana_kcal = statistics.median(valores_kcal)\n",
        "\n",
        "print(\"A mediana da Kcal é\", mediana_kcal)\n"
      ],
      "metadata": {
        "id": "FJVEBBFsCRfD"
      },
      "execution_count": null,
      "outputs": []
    },
    {
      "cell_type": "code",
      "source": [
        "# Carb - Mediana\n",
        "import statistics\n",
        "\n",
        "# Cria uma lista com todos os valores de carb\n",
        "valores_carb = [carb.carb for carb in lista_glicemias]\n",
        "\n",
        "# Calcula a mediana usando a função median da biblioteca statistics\n",
        "mediana_carb = statistics.median(valores_carb)\n",
        "\n",
        "print(\"A mediana da carb é\", mediana_carb)\n"
      ],
      "metadata": {
        "id": "0zRdQmEbCxcJ"
      },
      "execution_count": null,
      "outputs": []
    },
    {
      "cell_type": "code",
      "source": [
        "# Glicemia - Moda\n",
        "import statistics\n",
        "\n",
        "# Cria uma lista com todos os valores de glicemia\n",
        "valores_glicemia = [glicemia.glicemia for glicemia in lista_glicemias]\n",
        "\n",
        "# Calcula a moda usando a função mode da biblioteca statistics\n",
        "moda_glicemia = statistics.mode(valores_glicemia)\n",
        "\n",
        "print(\"A moda da glicemia é\", moda_glicemia)\n"
      ],
      "metadata": {
        "id": "uWfJm0WfDAo_"
      },
      "execution_count": null,
      "outputs": []
    },
    {
      "cell_type": "code",
      "source": [
        "# Kcal - Moda\n",
        "import statistics\n",
        "\n",
        "# Cria uma lista com todos os valores de kcal\n",
        "valores_kcal = [kcal.kcal for kcal in lista_glicemias]\n",
        "\n",
        "# Calcula a moda usando a função mode da biblioteca statistics\n",
        "moda_kcal = statistics.mode(valores_kcal)\n",
        "\n",
        "print(\"A moda da kcal é\", moda_kcal)\n"
      ],
      "metadata": {
        "id": "hXuMwTAjDP0t"
      },
      "execution_count": null,
      "outputs": []
    },
    {
      "cell_type": "code",
      "source": [
        "# Carb - Moda\n",
        "import statistics\n",
        "\n",
        "# Cria uma lista com todos os valores de carb\n",
        "valores_carb = [carb.carb for carb in lista_glicemias]\n",
        "\n",
        "# Calcula a moda usando a função mode da biblioteca statistics\n",
        "moda_carb = statistics.mode(valores_carb)\n",
        "\n",
        "print(\"A moda da carb é\", moda_carb)\n"
      ],
      "metadata": {
        "id": "_cD6Aq77Dd53"
      },
      "execution_count": null,
      "outputs": []
    }
  ]
}