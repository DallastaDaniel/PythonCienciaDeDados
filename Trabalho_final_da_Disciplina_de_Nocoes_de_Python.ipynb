{
  "nbformat": 4,
  "nbformat_minor": 0,
  "metadata": {
    "colab": {
      "provenance": [],
      "mount_file_id": "16ZlX2RQUyunMcjukye5s7NI9DZ8uNCAO",
      "authorship_tag": "ABX9TyMWhtlK+8+5uo9WyzuSIqvZ",
      "include_colab_link": true
    },
    "kernelspec": {
      "name": "python3",
      "display_name": "Python 3"
    },
    "language_info": {
      "name": "python"
    }
  },
  "cells": [
    {
      "cell_type": "markdown",
      "metadata": {
        "id": "view-in-github",
        "colab_type": "text"
      },
      "source": [
        "<a href=\"https://colab.research.google.com/github/DallastaDaniel/PythonCienciaDeDados/blob/main/Trabalho_final_da_Disciplina_de_Nocoes_de_Python.ipynb\" target=\"_parent\"><img src=\"https://colab.research.google.com/assets/colab-badge.svg\" alt=\"Open In Colab\"/></a>"
      ]
    },
    {
      "cell_type": "markdown",
      "source": [
        "# **Trabalho final**\n",
        "\n",
        "    A partir da base de dados de glicemia 'suja', ou sem tratamento, construir um programa em Python que:\n",
        "        1) leia linha por linha do arquivo,\n",
        "        2) extraia as colunas das linhas separadas por ;,\n",
        "        3) armazene os dados em um objeto chamado glicemia (destacando os atributos até os dados dos esportes),\n",
        "        4) armazene os objetos numa lista de glicemia,\n",
        "        5) realize a média de glicemia, kcal, carb.,\n",
        "        6) realize a mediana de glicemia, kcal, carb. (Dica. Ordenar a lista),\n",
        "        7) realize a moda de glicemida, kcal, carb (Moda é o valor que mais repete).\n",
        "\n",
        "    Conhecimento básico:\n",
        "        1) manipular instruções básicas do python: seleção (if-else); repetição (while),\n",
        "        2) manipular classes e objetos,\n",
        "        3) manipular listas (adicionar, localizar, remover e ordenar),\n",
        "        4) manipular arquivos texto (abrir, fechar, percorrer, extrair dados).\n",
        "        "
      ],
      "metadata": {
        "id": "p3GtJC1XDA6E"
      }
    },
    {
      "cell_type": "code",
      "source": [
        "# Atribui a variável o nome do arquivo a ser utlizado\n",
        "\n",
        "nome_arquivo = \"/glicose.dat\"\n",
        "\n",
        "print(\"Nome do arquivo aberto =\",nome_arquivo)\n"
      ],
      "metadata": {
        "id": "fFLbnUCNHDTc",
        "colab": {
          "base_uri": "https://localhost:8080/"
        },
        "outputId": "de2c5b3a-8961-487b-9665-bee6e6aa04cb"
      },
      "execution_count": 1,
      "outputs": [
        {
          "output_type": "stream",
          "name": "stdout",
          "text": [
            "Nome do arquivo aberto = /glicose.dat\n"
          ]
        }
      ]
    },
    {
      "cell_type": "code",
      "source": [
        "# Cria a classe Glicemia\n",
        "class Glicemia:\n",
        "\n",
        "    #é necessário de um método/serviço que crie ou instancie um objeto do tipo Glicemia\n",
        "    def __init__(self, dia, ano, glicemia, insulina, kcal, carb, sono):\n",
        "        self.dia = str(dia)\n",
        "        self.ano = int(ano)\n",
        "        self.glicemia = int(glicemia)\n",
        "        self.insulina = int(insulina)\n",
        "        self.kcal = int(kcal)\n",
        "        self.carb = int(carb)\n",
        "        self.sono = str(sono)\n",
        "\n",
        "    #estamos reescrevendo o método que gera uma string do objeto Glicemia\n",
        "    def __str__(self):\n",
        "        return f\"Glicemia[Dia:{self.dia}, Ano:{self.ano}, Valor Glicemia:{self.glicemia}, Insulina:{self.insulina}, Kcal:{self.kcal}, Carb.:{self.carb}, Sono:{self.sono}]\"\n",
        "print(\"Classe Glicemia criada com sucesso!\")\n"
      ],
      "metadata": {
        "id": "azqnwZbXpm4g",
        "colab": {
          "base_uri": "https://localhost:8080/"
        },
        "outputId": "ee58c516-d2e0-4fa4-d836-946e50e25888"
      },
      "execution_count": 2,
      "outputs": [
        {
          "output_type": "stream",
          "name": "stdout",
          "text": [
            "Classe Glicemia criada com sucesso!\n"
          ]
        }
      ]
    },
    {
      "cell_type": "code",
      "source": [
        "lista_glicemias = []\n",
        "\n",
        "with open(nome_arquivo,\"r\",encoding=\"utf8\") as leitor:\n",
        "    for linha in leitor:\n",
        "        # splitar a linha e criar um objeto do tipo Glicemia para cada linha\n",
        "        vetor_linha = linha.split(\";\")\n",
        "\n",
        "        # inserir o objeto gerado na lista de glicemias\n",
        "        obj = Glicemia(vetor_linha[0],vetor_linha[1],vetor_linha[3],vetor_linha[4],vetor_linha[5],vetor_linha[6],vetor_linha[7])\n",
        "        lista_glicemias.append(obj)\n",
        "\n",
        "l = 0\n",
        "while l < 725:\n",
        "    print(lista_glicemias[l])\n",
        "    l += 1\n"
      ],
      "metadata": {
        "id": "1XL6PSSEjevk",
        "colab": {
          "base_uri": "https://localhost:8080/",
          "height": 219
        },
        "outputId": "21a21d00-67e3-4506-e823-2b8243903b28"
      },
      "execution_count": 3,
      "outputs": [
        {
          "output_type": "error",
          "ename": "FileNotFoundError",
          "evalue": "[Errno 2] No such file or directory: '/glicose.dat'",
          "traceback": [
            "\u001b[0;31m---------------------------------------------------------------------------\u001b[0m",
            "\u001b[0;31mFileNotFoundError\u001b[0m                         Traceback (most recent call last)",
            "\u001b[0;32m<ipython-input-3-8818746f2c90>\u001b[0m in \u001b[0;36m<cell line: 3>\u001b[0;34m()\u001b[0m\n\u001b[1;32m      1\u001b[0m \u001b[0mlista_glicemias\u001b[0m \u001b[0;34m=\u001b[0m \u001b[0;34m[\u001b[0m\u001b[0;34m]\u001b[0m\u001b[0;34m\u001b[0m\u001b[0;34m\u001b[0m\u001b[0m\n\u001b[1;32m      2\u001b[0m \u001b[0;34m\u001b[0m\u001b[0m\n\u001b[0;32m----> 3\u001b[0;31m \u001b[0;32mwith\u001b[0m \u001b[0mopen\u001b[0m\u001b[0;34m(\u001b[0m\u001b[0mnome_arquivo\u001b[0m\u001b[0;34m,\u001b[0m\u001b[0;34m\"r\"\u001b[0m\u001b[0;34m,\u001b[0m\u001b[0mencoding\u001b[0m\u001b[0;34m=\u001b[0m\u001b[0;34m\"utf8\"\u001b[0m\u001b[0;34m)\u001b[0m \u001b[0;32mas\u001b[0m \u001b[0mleitor\u001b[0m\u001b[0;34m:\u001b[0m\u001b[0;34m\u001b[0m\u001b[0;34m\u001b[0m\u001b[0m\n\u001b[0m\u001b[1;32m      4\u001b[0m     \u001b[0;32mfor\u001b[0m \u001b[0mlinha\u001b[0m \u001b[0;32min\u001b[0m \u001b[0mleitor\u001b[0m\u001b[0;34m:\u001b[0m\u001b[0;34m\u001b[0m\u001b[0;34m\u001b[0m\u001b[0m\n\u001b[1;32m      5\u001b[0m         \u001b[0;31m# splitar a linha e criar um objeto do tipo Glicemia para cada linha\u001b[0m\u001b[0;34m\u001b[0m\u001b[0;34m\u001b[0m\u001b[0m\n",
            "\u001b[0;31mFileNotFoundError\u001b[0m: [Errno 2] No such file or directory: '/glicose.dat'"
          ]
        }
      ]
    }
  ]
}